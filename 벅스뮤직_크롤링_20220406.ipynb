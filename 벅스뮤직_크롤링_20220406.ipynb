{
 "cells": [
  {
   "cell_type": "code",
   "execution_count": 78,
   "id": "7003c544",
   "metadata": {},
   "outputs": [],
   "source": [
    "from selenium import webdriver\n",
    "from bs4 import BeautifulSoup as bs\n",
    "import pandas as pd\n",
    "import matplotlib.pyplot as plt\n",
    "import time\n",
    "import random\n",
    "import requests\n",
    "import numpy as np"
   ]
  },
  {
   "cell_type": "code",
   "execution_count": 2,
   "id": "aeaaecc6",
   "metadata": {},
   "outputs": [],
   "source": [
    "import platform\n",
    "from matplotlib import font_manager, rc"
   ]
  },
  {
   "cell_type": "markdown",
   "id": "e7ac113b",
   "metadata": {},
   "source": [
    "# 코드 테스트"
   ]
  },
  {
   "cell_type": "code",
   "execution_count": 3,
   "id": "59f12fcf",
   "metadata": {},
   "outputs": [
    {
     "name": "stderr",
     "output_type": "stream",
     "text": [
      "C:\\Users\\User\\AppData\\Local\\Temp/ipykernel_9468/1055193298.py:2: DeprecationWarning: executable_path has been deprecated, please pass in a Service object\n",
      "  driver = webdriver.Chrome(driver_path)\n"
     ]
    }
   ],
   "source": [
    "driver_path = 'C:/Users/User/Desktop/chromedriver/chromedriver_win32/chromedriver'\n",
    "driver = webdriver.Chrome(driver_path)\n",
    "\n",
    "url = 'https://music.bugs.co.kr/chart/track/realtime/total'\n",
    "driver.get(url)\n",
    "time.sleep(2)"
   ]
  },
  {
   "cell_type": "markdown",
   "id": "5aa403e9",
   "metadata": {},
   "source": [
    "## frame 추출"
   ]
  },
  {
   "cell_type": "code",
   "execution_count": 4,
   "id": "f2f9eb1e",
   "metadata": {},
   "outputs": [],
   "source": [
    "soup = bs(driver.page_source,'lxml')"
   ]
  },
  {
   "cell_type": "code",
   "execution_count": 5,
   "id": "76502f97",
   "metadata": {},
   "outputs": [
    {
     "data": {
      "text/plain": [
       "201"
      ]
     },
     "execution_count": 5,
     "metadata": {},
     "output_type": "execute_result"
    }
   ],
   "source": [
    "raw_table = soup.find('table', 'list trackList byChart')\n",
    "raw_table2 = raw_table.find('tbody')\n",
    "len(raw_table2)"
   ]
  },
  {
   "cell_type": "code",
   "execution_count": 6,
   "id": "e3a09406",
   "metadata": {},
   "outputs": [
    {
     "data": {
      "text/plain": [
       "100"
      ]
     },
     "execution_count": 6,
     "metadata": {},
     "output_type": "execute_result"
    }
   ],
   "source": [
    "len(raw_table2.find_all('th'))"
   ]
  },
  {
   "cell_type": "markdown",
   "id": "f86b1f48",
   "metadata": {},
   "source": [
    "## 제목 리스트 만들기"
   ]
  },
  {
   "cell_type": "code",
   "execution_count": 7,
   "id": "63b720e7",
   "metadata": {},
   "outputs": [
    {
     "name": "stdout",
     "output_type": "stream",
     "text": [
      "100\n",
      "['봄여름가을겨울 (Still Life)', 'LOVE DIVE', 'Feel My Rhythm', 'TOMBOY', '사랑인가 봐 (Acoustic Ver.)']\n"
     ]
    }
   ],
   "source": [
    "song_name_list = []\n",
    "\n",
    "for area in raw_table2.find_all('th'):\n",
    "    name_area = area.find('p').a['title']\n",
    "    song_name_text = name_area.strip()\n",
    "    song_name_list.append(song_name_text)\n",
    "\n",
    "print(len(song_name_list))\n",
    "print(song_name_list[:5])"
   ]
  },
  {
   "cell_type": "markdown",
   "id": "db53f6ae",
   "metadata": {},
   "source": [
    "## 아티스트, 앨범 리스트 만들기"
   ]
  },
  {
   "cell_type": "code",
   "execution_count": 8,
   "id": "e2c041c3",
   "metadata": {},
   "outputs": [
    {
     "data": {
      "text/plain": [
       "200"
      ]
     },
     "execution_count": 8,
     "metadata": {},
     "output_type": "execute_result"
    }
   ],
   "source": [
    "len(raw_table2.find_all('td', 'left'))"
   ]
  },
  {
   "cell_type": "code",
   "execution_count": 9,
   "id": "20722636",
   "metadata": {},
   "outputs": [
    {
     "name": "stdout",
     "output_type": "stream",
     "text": [
      "\n",
      "\n",
      "BIGBANG (빅뱅)\n",
      "\n",
      "\n",
      "\n",
      "봄여름가을겨울 (Still Life)\n",
      "\n",
      "\n",
      "\n",
      "IVE (아이브)\n",
      "\n",
      "\n",
      "\n",
      "LOVE DIVE\n",
      "\n",
      "\n",
      "\n",
      "Red Velvet (레드벨벳)\n",
      "\n",
      "\n",
      "\n",
      "‘The ReVe Festival 2022 - Feel My Rhythm’\n",
      "\n"
     ]
    }
   ],
   "source": [
    "count = 0\n",
    "\n",
    "for area in raw_table2.find_all('td', 'left'):\n",
    "    count +=1\n",
    "    \n",
    "    print(area.text)\n",
    "    \n",
    "    if count > 5: break"
   ]
  },
  {
   "cell_type": "code",
   "execution_count": 10,
   "id": "e30006e5",
   "metadata": {},
   "outputs": [
    {
     "data": {
      "text/plain": [
       "['BIGBANG (빅뱅)',\n",
       " '봄여름가을겨울 (Still Life)',\n",
       " 'IVE (아이브)',\n",
       " 'LOVE DIVE',\n",
       " 'Red Velvet (레드벨벳)',\n",
       " '‘The ReVe Festival 2022 - Feel My Rhythm’',\n",
       " '(여자)아이들',\n",
       " 'I NEVER DIE',\n",
       " '김세정',\n",
       " '사랑인가 봐 (사내맞선 OST Bonus Track)']"
      ]
     },
     "execution_count": 10,
     "metadata": {},
     "output_type": "execute_result"
    }
   ],
   "source": [
    "artist_album_list = []\n",
    "\n",
    "for area in raw_table2.find_all('td', 'left'):\n",
    "    artist_album_list.append(area.text.strip())\n",
    "    \n",
    "artist_album_list[:10]"
   ]
  },
  {
   "cell_type": "markdown",
   "id": "918a99dd",
   "metadata": {},
   "source": [
    "td 태그의 class=left는 2개가 있습니다. 여기에는 가수 이름과 앨범이 포함되는데, 이들을 분리하여 각각 리스트를 만들어줍니다."
   ]
  },
  {
   "cell_type": "code",
   "execution_count": 11,
   "id": "2ed4568b",
   "metadata": {},
   "outputs": [],
   "source": [
    "artist_list = artist_album_list[::2]\n",
    "album_list = artist_album_list[1::2]"
   ]
  },
  {
   "cell_type": "code",
   "execution_count": 12,
   "id": "d91e3a94",
   "metadata": {},
   "outputs": [
    {
     "name": "stdout",
     "output_type": "stream",
     "text": [
      "100 100\n"
     ]
    }
   ],
   "source": [
    "print(len(artist_list), len(album_list))"
   ]
  },
  {
   "cell_type": "markdown",
   "id": "e2fbd3ea",
   "metadata": {},
   "source": [
    "## 데이터프레임 만들기"
   ]
  },
  {
   "cell_type": "code",
   "execution_count": 13,
   "id": "063b2da0",
   "metadata": {},
   "outputs": [],
   "source": [
    "rank = list(range(1, 101))"
   ]
  },
  {
   "cell_type": "code",
   "execution_count": 14,
   "id": "8543135d",
   "metadata": {},
   "outputs": [
    {
     "data": {
      "text/plain": [
       "(100, 4)"
      ]
     },
     "execution_count": 14,
     "metadata": {},
     "output_type": "execute_result"
    }
   ],
   "source": [
    "df = pd.DataFrame({'순위': rank,\n",
    "                   '곡': song_name_list,\n",
    "                   '아티스트': artist_list,\n",
    "                   '앨범': album_list\n",
    "                  })\n",
    "\n",
    "df.shape"
   ]
  },
  {
   "cell_type": "code",
   "execution_count": 15,
   "id": "4717376e",
   "metadata": {
    "scrolled": true
   },
   "outputs": [
    {
     "data": {
      "text/html": [
       "<div>\n",
       "<style scoped>\n",
       "    .dataframe tbody tr th:only-of-type {\n",
       "        vertical-align: middle;\n",
       "    }\n",
       "\n",
       "    .dataframe tbody tr th {\n",
       "        vertical-align: top;\n",
       "    }\n",
       "\n",
       "    .dataframe thead th {\n",
       "        text-align: right;\n",
       "    }\n",
       "</style>\n",
       "<table border=\"1\" class=\"dataframe\">\n",
       "  <thead>\n",
       "    <tr style=\"text-align: right;\">\n",
       "      <th></th>\n",
       "      <th>순위</th>\n",
       "      <th>곡</th>\n",
       "      <th>아티스트</th>\n",
       "      <th>앨범</th>\n",
       "    </tr>\n",
       "  </thead>\n",
       "  <tbody>\n",
       "    <tr>\n",
       "      <th>0</th>\n",
       "      <td>1</td>\n",
       "      <td>봄여름가을겨울 (Still Life)</td>\n",
       "      <td>BIGBANG (빅뱅)</td>\n",
       "      <td>봄여름가을겨울 (Still Life)</td>\n",
       "    </tr>\n",
       "    <tr>\n",
       "      <th>1</th>\n",
       "      <td>2</td>\n",
       "      <td>LOVE DIVE</td>\n",
       "      <td>IVE (아이브)</td>\n",
       "      <td>LOVE DIVE</td>\n",
       "    </tr>\n",
       "    <tr>\n",
       "      <th>2</th>\n",
       "      <td>3</td>\n",
       "      <td>Feel My Rhythm</td>\n",
       "      <td>Red Velvet (레드벨벳)</td>\n",
       "      <td>‘The ReVe Festival 2022 - Feel My Rhythm’</td>\n",
       "    </tr>\n",
       "    <tr>\n",
       "      <th>3</th>\n",
       "      <td>4</td>\n",
       "      <td>TOMBOY</td>\n",
       "      <td>(여자)아이들</td>\n",
       "      <td>I NEVER DIE</td>\n",
       "    </tr>\n",
       "    <tr>\n",
       "      <th>4</th>\n",
       "      <td>5</td>\n",
       "      <td>사랑인가 봐 (Acoustic Ver.)</td>\n",
       "      <td>김세정</td>\n",
       "      <td>사랑인가 봐 (사내맞선 OST Bonus Track)</td>\n",
       "    </tr>\n",
       "  </tbody>\n",
       "</table>\n",
       "</div>"
      ],
      "text/plain": [
       "   순위                       곡               아티스트  \\\n",
       "0   1    봄여름가을겨울 (Still Life)       BIGBANG (빅뱅)   \n",
       "1   2               LOVE DIVE          IVE (아이브)   \n",
       "2   3          Feel My Rhythm  Red Velvet (레드벨벳)   \n",
       "3   4                  TOMBOY            (여자)아이들   \n",
       "4   5  사랑인가 봐 (Acoustic Ver.)                김세정   \n",
       "\n",
       "                                          앨범  \n",
       "0                       봄여름가을겨울 (Still Life)  \n",
       "1                                  LOVE DIVE  \n",
       "2  ‘The ReVe Festival 2022 - Feel My Rhythm’  \n",
       "3                                I NEVER DIE  \n",
       "4              사랑인가 봐 (사내맞선 OST Bonus Track)  "
      ]
     },
     "execution_count": 15,
     "metadata": {},
     "output_type": "execute_result"
    }
   ],
   "source": [
    "df.head()"
   ]
  },
  {
   "cell_type": "code",
   "execution_count": 16,
   "id": "3c7459c9",
   "metadata": {},
   "outputs": [
    {
     "data": {
      "text/plain": [
       "순위      0\n",
       "곡       0\n",
       "아티스트    0\n",
       "앨범      0\n",
       "dtype: int64"
      ]
     },
     "execution_count": 16,
     "metadata": {},
     "output_type": "execute_result"
    }
   ],
   "source": [
    "df.isnull().sum()"
   ]
  },
  {
   "cell_type": "markdown",
   "id": "e2fd89de",
   "metadata": {},
   "source": [
    "# 벅스뮤직 차트 크롤링 함수 만들기"
   ]
  },
  {
   "cell_type": "code",
   "execution_count": 82,
   "id": "aeb4ce5e",
   "metadata": {},
   "outputs": [],
   "source": [
    "def bugs_df(url):\n",
    "    driver_path = 'C:/Users/User/Desktop/chromedriver/chromedriver_win32/chromedriver'\n",
    "    driver = webdriver.Chrome(driver_path)\n",
    "\n",
    "    driver.get(url)\n",
    "    time.sleep(2)\n",
    "    \n",
    "    soup = bs(driver.page_source,'lxml')\n",
    "\n",
    "    raw_table = soup.find('table', 'list trackList byChart')\n",
    "    raw_table2 = raw_table.find('tbody')\n",
    "    \n",
    "    # 제목 리스트 만들기\n",
    "    song_name_list = []\n",
    "\n",
    "    for area in raw_table2.find_all('th'):\n",
    "        name_area = area.find('p').a['title']\n",
    "        song_name_text = name_area.strip()\n",
    "        song_name_list.append(song_name_text)\n",
    "        \n",
    "    # 아티스트, 앨범 리스트 만들기\n",
    "    artist_album_list = []\n",
    "\n",
    "    for area in raw_table2.find_all('td', 'left'):\n",
    "        artist_album_list.append(area.text.strip())\n",
    "\n",
    "    artist_list = artist_album_list[::2]\n",
    "    album_list = artist_album_list[1::2]\n",
    "    \n",
    "    # 데이터프레임 만들기\n",
    "    rank = list(range(1, 101))\n",
    "    \n",
    "    df = pd.DataFrame({'순위': rank,\n",
    "                   '곡': song_name_list,\n",
    "                   '아티스트': artist_list,\n",
    "                   '앨범': album_list\n",
    "                  })\n",
    "    \n",
    "    df.head()\n",
    "    \n",
    "    random_number = random.uniform(1, 2)\n",
    "    time.sleep(random_number)\n",
    "    \n",
    "    return df"
   ]
  },
  {
   "cell_type": "markdown",
   "id": "f221cabc",
   "metadata": {},
   "source": [
    "## bugs_df에서 나온 df 저장하는 함수"
   ]
  },
  {
   "cell_type": "code",
   "execution_count": 87,
   "id": "fa51466a",
   "metadata": {},
   "outputs": [],
   "source": [
    "from tqdm import tqdm"
   ]
  },
  {
   "cell_type": "code",
   "execution_count": 90,
   "id": "ffc800f0",
   "metadata": {},
   "outputs": [],
   "source": [
    "def save_df(start_date, end_date):\n",
    "    # 원하는 날짜 리스트에 담기\n",
    "    # pd.date_range에 원하는 날짜 입력하기\n",
    "    date_period = pd.date_range(start_date, end_date)\n",
    "    timestamp_list = list(date_period)\n",
    "\n",
    "    date_list = []\n",
    "\n",
    "    for date in timestamp_list:\n",
    "\n",
    "        date_list.append(str(date)[:10])\n",
    "\n",
    "    for datetime in tqdm(date_list):\n",
    "        date = datetime.replace('-', '')\n",
    "\n",
    "        url = \"https://music.bugs.co.kr/chart/track/day/total?chartdate=\"\n",
    "        url_with_date = url + date\n",
    "\n",
    "        df = bugs_df(url_with_date)\n",
    "\n",
    "        # DataFrame.inser(loc,column, value, allow_duplicates=False)\n",
    "        df.insert(0, '날짜', datetime)\n",
    "        # 파일 저장\n",
    "        save_path = f\"C:/Users/User/Desktop/음원사재기/벅스/day_bugs_{date}.xlsx\"\n",
    "        df.to_excel(save_path, index=False)\n",
    "\n",
    "        df"
   ]
  },
  {
   "cell_type": "code",
   "execution_count": 84,
   "id": "bd7ae0aa",
   "metadata": {},
   "outputs": [
    {
     "name": "stderr",
     "output_type": "stream",
     "text": [
      "C:\\Users\\User\\AppData\\Local\\Temp/ipykernel_9468/308752351.py:3: DeprecationWarning: executable_path has been deprecated, please pass in a Service object\n",
      "  driver = webdriver.Chrome(driver_path)\n"
     ]
    }
   ],
   "source": [
    "save_df('2022-02-01', '2022-02-10')"
   ]
  },
  {
   "cell_type": "code",
   "execution_count": 104,
   "id": "1a5c502d",
   "metadata": {
    "scrolled": true
   },
   "outputs": [
    {
     "data": {
      "text/plain": [
       "순위      0\n",
       "곡       0\n",
       "아티스트    0\n",
       "앨범      0\n",
       "dtype: int64"
      ]
     },
     "execution_count": 104,
     "metadata": {},
     "output_type": "execute_result"
    }
   ],
   "source": [
    "df.isnull().sum()"
   ]
  }
 ],
 "metadata": {
  "kernelspec": {
   "display_name": "Python 3 (ipykernel)",
   "language": "python",
   "name": "python3"
  },
  "language_info": {
   "codemirror_mode": {
    "name": "ipython",
    "version": 3
   },
   "file_extension": ".py",
   "mimetype": "text/x-python",
   "name": "python",
   "nbconvert_exporter": "python",
   "pygments_lexer": "ipython3",
   "version": "3.9.7"
  }
 },
 "nbformat": 4,
 "nbformat_minor": 5
}
