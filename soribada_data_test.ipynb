{
 "cells": [
  {
   "cell_type": "markdown",
   "id": "fa25dc5e",
   "metadata": {},
   "source": [
    "## 데이터셋 불러오기"
   ]
  },
  {
   "cell_type": "code",
   "execution_count": 79,
   "id": "d0626004",
   "metadata": {},
   "outputs": [],
   "source": [
    "import pandas as pd\n",
    "import os"
   ]
  },
  {
   "cell_type": "code",
   "execution_count": 132,
   "id": "1de033f0",
   "metadata": {},
   "outputs": [
    {
     "data": {
      "text/plain": [
       "'C:\\\\Users\\\\User\\\\Desktop\\\\음원사재기\\\\soribada\\\\일간'"
      ]
     },
     "execution_count": 132,
     "metadata": {},
     "output_type": "execute_result"
    }
   ],
   "source": [
    "day_path = \"C:/Users/User/Desktop/음원사재기/soribada/일간/\"\n",
    "week_path = \"C:/Users/User/Desktop/음원사재기/soribada/주간/\"\n",
    "month_path = \"C:/Users/User/Desktop/음원사재기/soribada/월간/\"\n",
    "live_path = \"C:/Users/User/Desktop/음원사재기/soribada/실시간/\"\n",
    "os.chdir(day_path)\n",
    "os.getcwd()"
   ]
  },
  {
   "cell_type": "code",
   "execution_count": 103,
   "id": "06c93f00",
   "metadata": {},
   "outputs": [
    {
     "data": {
      "text/plain": [
       "86"
      ]
     },
     "execution_count": 103,
     "metadata": {},
     "output_type": "execute_result"
    }
   ],
   "source": [
    "len(os.listdir(day_path))"
   ]
  },
  {
   "cell_type": "markdown",
   "id": "b74567f6",
   "metadata": {},
   "source": [
    "## 일간"
   ]
  },
  {
   "cell_type": "code",
   "execution_count": 138,
   "id": "5e8105be",
   "metadata": {},
   "outputs": [
    {
     "data": {
      "text/plain": [
       "(8600, 5)"
      ]
     },
     "execution_count": 138,
     "metadata": {},
     "output_type": "execute_result"
    }
   ],
   "source": [
    "df_list = []\n",
    "for fname in os.listdir(day_path):\n",
    "    temp_df = pd.read_excel(os.path.join(day_path, fname))\n",
    "    df_list.append(temp_df)\n",
    "    \n",
    "df = pd.concat(df_list)\n",
    "df.reset_index(drop=True, inplace=True)\n",
    "df.shape"
   ]
  },
  {
   "cell_type": "code",
   "execution_count": 125,
   "id": "9ed564ab",
   "metadata": {},
   "outputs": [],
   "source": [
    "try:\n",
    "    for a in range(0, df.shape[0]+1):\n",
    "        if '\\n' in df['노래제목'][a]:\n",
    "            print(a, df['노래제목'][a])\n",
    "\n",
    "        if '\\n' in df['가수명'][a]:\n",
    "            print(a, df['가수명'][a])\n",
    "\n",
    "        if '\\n' in df['앨범명'][a]:\n",
    "            print(a, df['앨범명'][a])\n",
    "            \n",
    "except:\n",
    "    pass"
   ]
  },
  {
   "cell_type": "markdown",
   "id": "d80258ef",
   "metadata": {},
   "source": [
    "## 주간"
   ]
  },
  {
   "cell_type": "code",
   "execution_count": 154,
   "id": "f9d9ba0a",
   "metadata": {},
   "outputs": [
    {
     "data": {
      "text/plain": [
       "(300, 5)"
      ]
     },
     "execution_count": 154,
     "metadata": {},
     "output_type": "execute_result"
    }
   ],
   "source": [
    "df_list = []\n",
    "for fname in os.listdir(week_path):\n",
    "    temp_df = pd.read_excel(os.path.join(week_path, fname))\n",
    "    df_list.append(temp_df)\n",
    "    \n",
    "df = pd.concat(df_list)\n",
    "df.reset_index(drop=True, inplace=True)\n",
    "df.shape"
   ]
  },
  {
   "cell_type": "code",
   "execution_count": 155,
   "id": "0bdd5f40",
   "metadata": {},
   "outputs": [],
   "source": [
    "try:\n",
    "    for a in range(0, df.shape[0]+1):\n",
    "        if '\\n' in base_df['노래제목'][a]:\n",
    "            print(a, base_df['노래제목'][a])\n",
    "\n",
    "        if '\\n' in base_df['가수명'][a]:\n",
    "            print(a, base_df['가수명'][a])\n",
    "\n",
    "        if '\\n' in base_df['앨범명'][a]:\n",
    "            print(a, base_df['앨범명'][a])\n",
    "            \n",
    "except:\n",
    "    pass"
   ]
  },
  {
   "cell_type": "markdown",
   "id": "a4631062",
   "metadata": {},
   "source": [
    "## 월간"
   ]
  },
  {
   "cell_type": "code",
   "execution_count": 163,
   "id": "416b1a35",
   "metadata": {},
   "outputs": [
    {
     "data": {
      "text/plain": [
       "(300, 5)"
      ]
     },
     "execution_count": 163,
     "metadata": {},
     "output_type": "execute_result"
    }
   ],
   "source": [
    "df_list = []\n",
    "for fname in os.listdir(month_path):\n",
    "    temp_df = pd.read_excel(os.path.join(month_path, fname))\n",
    "    df_list.append(temp_df)\n",
    "    \n",
    "df = pd.concat(df_list)\n",
    "df.reset_index(drop=True, inplace=True)\n",
    "df.shape"
   ]
  },
  {
   "cell_type": "code",
   "execution_count": 129,
   "id": "b7aecb8c",
   "metadata": {},
   "outputs": [],
   "source": [
    "try:\n",
    "    for a in range(0, df.shape[0]+1):\n",
    "        if '\\n' in base_df['노래제목'][a]:\n",
    "            print(a, base_df['노래제목'][a])\n",
    "\n",
    "        if '\\n' in base_df['가수명'][a]:\n",
    "            print(a, base_df['가수명'][a])\n",
    "\n",
    "        if '\\n' in base_df['앨범명'][a]:\n",
    "            print(a, base_df['앨범명'][a])\n",
    "            \n",
    "except:\n",
    "    pass"
   ]
  },
  {
   "cell_type": "markdown",
   "id": "c3626f23",
   "metadata": {},
   "source": [
    "## 실시간"
   ]
  },
  {
   "cell_type": "code",
   "execution_count": 168,
   "id": "aba8a518",
   "metadata": {},
   "outputs": [
    {
     "data": {
      "text/plain": [
       "(100, 5)"
      ]
     },
     "execution_count": 168,
     "metadata": {},
     "output_type": "execute_result"
    }
   ],
   "source": [
    "df_list = []\n",
    "for fname in os.listdir(live_path):\n",
    "    temp_df = pd.read_excel(os.path.join(live_path, fname))\n",
    "    df_list.append(temp_df)\n",
    "    \n",
    "df = pd.concat(df_list)\n",
    "df.reset_index(drop=True, inplace=True)\n",
    "df.shape"
   ]
  },
  {
   "cell_type": "code",
   "execution_count": 131,
   "id": "45f9dd8a",
   "metadata": {},
   "outputs": [],
   "source": [
    "try:\n",
    "    for a in range(0, df.shape[0]+1):\n",
    "        if '\\n' in base_df['노래제목'][a]:\n",
    "            print(a, base_df['노래제목'][a])\n",
    "\n",
    "        if '\\n' in base_df['가수명'][a]:\n",
    "            print(a, base_df['가수명'][a])\n",
    "\n",
    "        if '\\n' in base_df['앨범명'][a]:\n",
    "            print(a, base_df['앨범명'][a])\n",
    "            \n",
    "except:\n",
    "    pass"
   ]
  },
  {
   "cell_type": "markdown",
   "id": "457b44d9",
   "metadata": {},
   "source": [
    "## 컬럼명 바꿔서 저장하기"
   ]
  },
  {
   "cell_type": "code",
   "execution_count": 169,
   "id": "88998c79",
   "metadata": {},
   "outputs": [
    {
     "data": {
      "text/plain": [
       "1"
      ]
     },
     "execution_count": 169,
     "metadata": {},
     "output_type": "execute_result"
    }
   ],
   "source": [
    "os.chdir(live_path)\n",
    "len(os.listdir(live_path))"
   ]
  },
  {
   "cell_type": "code",
   "execution_count": 170,
   "id": "b0b90994",
   "metadata": {},
   "outputs": [
    {
     "data": {
      "text/plain": [
       "100"
      ]
     },
     "execution_count": 170,
     "metadata": {},
     "output_type": "execute_result"
    }
   ],
   "source": [
    "df.shape[0]"
   ]
  },
  {
   "cell_type": "code",
   "execution_count": 171,
   "id": "4d2f3169",
   "metadata": {},
   "outputs": [
    {
     "data": {
      "text/html": [
       "<div>\n",
       "<style scoped>\n",
       "    .dataframe tbody tr th:only-of-type {\n",
       "        vertical-align: middle;\n",
       "    }\n",
       "\n",
       "    .dataframe tbody tr th {\n",
       "        vertical-align: top;\n",
       "    }\n",
       "\n",
       "    .dataframe thead th {\n",
       "        text-align: right;\n",
       "    }\n",
       "</style>\n",
       "<table border=\"1\" class=\"dataframe\">\n",
       "  <thead>\n",
       "    <tr style=\"text-align: right;\">\n",
       "      <th></th>\n",
       "      <th>날짜</th>\n",
       "      <th>순위</th>\n",
       "      <th>곡</th>\n",
       "      <th>가수</th>\n",
       "      <th>앨범</th>\n",
       "    </tr>\n",
       "  </thead>\n",
       "  <tbody>\n",
       "    <tr>\n",
       "      <th>95</th>\n",
       "      <td>2022-04-07</td>\n",
       "      <td>96</td>\n",
       "      <td>미련</td>\n",
       "      <td>코요태</td>\n",
       "      <td>실연 : Disappointed Love</td>\n",
       "    </tr>\n",
       "    <tr>\n",
       "      <th>96</th>\n",
       "      <td>2022-04-07</td>\n",
       "      <td>97</td>\n",
       "      <td>사랑에 취한 바보</td>\n",
       "      <td>김성민</td>\n",
       "      <td>그 사람</td>\n",
       "    </tr>\n",
       "    <tr>\n",
       "      <th>97</th>\n",
       "      <td>2022-04-07</td>\n",
       "      <td>98</td>\n",
       "      <td>왜 자꾸 날 찾오</td>\n",
       "      <td>민지</td>\n",
       "      <td>초혼</td>\n",
       "    </tr>\n",
       "    <tr>\n",
       "      <th>98</th>\n",
       "      <td>2022-04-07</td>\n",
       "      <td>99</td>\n",
       "      <td>대기만성</td>\n",
       "      <td>김동관</td>\n",
       "      <td>부자되세요</td>\n",
       "    </tr>\n",
       "    <tr>\n",
       "      <th>99</th>\n",
       "      <td>2022-04-07</td>\n",
       "      <td>100</td>\n",
       "      <td>서글픈 사랑</td>\n",
       "      <td>김예리나</td>\n",
       "      <td>나비처럼 날아온 사랑</td>\n",
       "    </tr>\n",
       "  </tbody>\n",
       "</table>\n",
       "</div>"
      ],
      "text/plain": [
       "            날짜   순위          곡    가수                      앨범\n",
       "95  2022-04-07   96         미련   코요태  실연 : Disappointed Love\n",
       "96  2022-04-07   97  사랑에 취한 바보   김성민                    그 사람\n",
       "97  2022-04-07   98  왜 자꾸 날 찾오    민지                      초혼\n",
       "98  2022-04-07   99       대기만성   김동관                   부자되세요\n",
       "99  2022-04-07  100     서글픈 사랑  김예리나             나비처럼 날아온 사랑"
      ]
     },
     "execution_count": 171,
     "metadata": {},
     "output_type": "execute_result"
    }
   ],
   "source": [
    "fix_column = ['날짜', '순위', '곡', '가수', '앨범']\n",
    "df.columns = fix_column\n",
    "df.tail()"
   ]
  },
  {
   "cell_type": "code",
   "execution_count": 172,
   "id": "225e9b45",
   "metadata": {
    "scrolled": true
   },
   "outputs": [],
   "source": [
    "name_list = os.listdir(live_path)\n",
    "interval_list = list(range(0, 200, 100))\n",
    "temp_path = \"C:/Users/User/Desktop/음원사재기/soribada/실시간/\"\n",
    "\n",
    "for i in range(0, 1):\n",
    "    # df[0:100] ~~~\n",
    "    fixed_df = df[interval_list[i]:interval_list[i+1]]\n",
    "    fixed_df.to_excel(temp_path+name_list[i], index=False)"
   ]
  },
  {
   "cell_type": "code",
   "execution_count": null,
   "id": "37828cb0",
   "metadata": {},
   "outputs": [],
   "source": []
  }
 ],
 "metadata": {
  "kernelspec": {
   "display_name": "Python 3 (ipykernel)",
   "language": "python",
   "name": "python3"
  },
  "language_info": {
   "codemirror_mode": {
    "name": "ipython",
    "version": 3
   },
   "file_extension": ".py",
   "mimetype": "text/x-python",
   "name": "python",
   "nbconvert_exporter": "python",
   "pygments_lexer": "ipython3",
   "version": "3.9.7"
  }
 },
 "nbformat": 4,
 "nbformat_minor": 5
}
