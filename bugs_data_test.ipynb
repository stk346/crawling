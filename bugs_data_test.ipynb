{
 "cells": [
  {
   "cell_type": "markdown",
   "id": "fa25dc5e",
   "metadata": {},
   "source": [
    "## 데이터셋 불러오기"
   ]
  },
  {
   "cell_type": "code",
   "execution_count": 178,
   "id": "d0626004",
   "metadata": {},
   "outputs": [],
   "source": [
    "import os\n",
    "import pandas as pd"
   ]
  },
  {
   "cell_type": "code",
   "execution_count": 390,
   "id": "e5075228",
   "metadata": {},
   "outputs": [
    {
     "data": {
      "text/plain": [
       "'C:\\\\Users\\\\User\\\\Desktop\\\\음원사재기\\\\bugs\\\\일간'"
      ]
     },
     "execution_count": 390,
     "metadata": {},
     "output_type": "execute_result"
    }
   ],
   "source": [
    "live_path = \"C:/Users/User/Desktop/음원사재기/bugs/실시간/\"\n",
    "daily_path = \"C:/Users/User/Desktop/음원사재기/bugs/일간/\"\n",
    "weekly_path = \"C:/Users/User/Desktop/음원사재기/bugs/주간/\"\n",
    "monthly_path = \"C:/Users/User/Desktop/음원사재기/bugs/월간/\"\n",
    "os.chdir(daily_path)\n",
    "os.getcwd()"
   ]
  },
  {
   "cell_type": "code",
   "execution_count": 354,
   "id": "0e086549",
   "metadata": {},
   "outputs": [
    {
     "data": {
      "text/plain": [
       "91"
      ]
     },
     "execution_count": 354,
     "metadata": {},
     "output_type": "execute_result"
    }
   ],
   "source": [
    "len(os.listdir(daily_path))"
   ]
  },
  {
   "cell_type": "code",
   "execution_count": 368,
   "id": "9d550c28",
   "metadata": {},
   "outputs": [
    {
     "data": {
      "text/plain": [
       "['day_bugs_20220101.xlsx',\n",
       " 'day_bugs_20220102.xlsx',\n",
       " 'day_bugs_20220103.xlsx',\n",
       " 'day_bugs_20220104.xlsx',\n",
       " 'day_bugs_20220105.xlsx',\n",
       " 'day_bugs_20220106.xlsx',\n",
       " 'day_bugs_20220107.xlsx',\n",
       " 'day_bugs_20220108.xlsx',\n",
       " 'day_bugs_20220109.xlsx',\n",
       " 'day_bugs_20220110.xlsx',\n",
       " 'day_bugs_20220111.xlsx',\n",
       " 'day_bugs_20220112.xlsx',\n",
       " 'day_bugs_20220113.xlsx',\n",
       " 'day_bugs_20220114.xlsx',\n",
       " 'day_bugs_20220115.xlsx',\n",
       " 'day_bugs_20220116.xlsx',\n",
       " 'day_bugs_20220117.xlsx',\n",
       " 'day_bugs_20220118.xlsx',\n",
       " 'day_bugs_20220119.xlsx',\n",
       " 'day_bugs_20220120.xlsx',\n",
       " 'day_bugs_20220121.xlsx',\n",
       " 'day_bugs_20220122.xlsx',\n",
       " 'day_bugs_20220123.xlsx',\n",
       " 'day_bugs_20220124.xlsx',\n",
       " 'day_bugs_20220125.xlsx',\n",
       " 'day_bugs_20220126.xlsx',\n",
       " 'day_bugs_20220127.xlsx',\n",
       " 'day_bugs_20220128.xlsx',\n",
       " 'day_bugs_20220129.xlsx',\n",
       " 'day_bugs_20220130.xlsx',\n",
       " 'day_bugs_20220131.xlsx',\n",
       " 'day_bugs_20220201.xlsx',\n",
       " 'day_bugs_20220202.xlsx',\n",
       " 'day_bugs_20220203.xlsx',\n",
       " 'day_bugs_20220204.xlsx',\n",
       " 'day_bugs_20220205.xlsx',\n",
       " 'day_bugs_20220206.xlsx',\n",
       " 'day_bugs_20220207.xlsx',\n",
       " 'day_bugs_20220208.xlsx',\n",
       " 'day_bugs_20220209.xlsx',\n",
       " 'day_bugs_20220210.xlsx',\n",
       " 'day_bugs_20220211.xlsx',\n",
       " 'day_bugs_20220212.xlsx',\n",
       " 'day_bugs_20220213.xlsx',\n",
       " 'day_bugs_20220214.xlsx',\n",
       " 'day_bugs_20220215.xlsx',\n",
       " 'day_bugs_20220216.xlsx',\n",
       " 'day_bugs_20220217.xlsx',\n",
       " 'day_bugs_20220218.xlsx',\n",
       " 'day_bugs_20220219.xlsx',\n",
       " 'day_bugs_20220220.xlsx',\n",
       " 'day_bugs_20220221.xlsx',\n",
       " 'day_bugs_20220222.xlsx',\n",
       " 'day_bugs_20220223.xlsx',\n",
       " 'day_bugs_20220224.xlsx',\n",
       " 'day_bugs_20220225.xlsx',\n",
       " 'day_bugs_20220226.xlsx',\n",
       " 'day_bugs_20220227.xlsx',\n",
       " 'day_bugs_20220228.xlsx',\n",
       " 'day_bugs_20220301.xlsx',\n",
       " 'day_bugs_20220302.xlsx',\n",
       " 'day_bugs_20220303.xlsx',\n",
       " 'day_bugs_20220304.xlsx',\n",
       " 'day_bugs_20220305.xlsx',\n",
       " 'day_bugs_20220306.xlsx',\n",
       " 'day_bugs_20220307.xlsx',\n",
       " 'day_bugs_20220308.xlsx',\n",
       " 'day_bugs_20220309.xlsx',\n",
       " 'day_bugs_20220310.xlsx',\n",
       " 'day_bugs_20220311.xlsx',\n",
       " 'day_bugs_20220312.xlsx',\n",
       " 'day_bugs_20220313.xlsx',\n",
       " 'day_bugs_20220314.xlsx',\n",
       " 'day_bugs_20220315.xlsx',\n",
       " 'day_bugs_20220316.xlsx',\n",
       " 'day_bugs_20220317.xlsx',\n",
       " 'day_bugs_20220318.xlsx',\n",
       " 'day_bugs_20220319.xlsx',\n",
       " 'day_bugs_20220320.xlsx',\n",
       " 'day_bugs_20220321.xlsx',\n",
       " 'day_bugs_20220322.xlsx',\n",
       " 'day_bugs_20220323.xlsx',\n",
       " 'day_bugs_20220324.xlsx',\n",
       " 'day_bugs_20220325.xlsx',\n",
       " 'day_bugs_20220326.xlsx',\n",
       " 'day_bugs_20220327.xlsx',\n",
       " 'day_bugs_20220328.xlsx',\n",
       " 'day_bugs_20220329.xlsx',\n",
       " 'day_bugs_20220330.xlsx',\n",
       " 'day_bugs_20220331.xlsx']"
      ]
     },
     "execution_count": 368,
     "metadata": {},
     "output_type": "execute_result"
    }
   ],
   "source": [
    "os.listdir(daily_path)"
   ]
  },
  {
   "cell_type": "markdown",
   "id": "9471965a",
   "metadata": {},
   "source": [
    "## 일간"
   ]
  },
  {
   "cell_type": "code",
   "execution_count": 370,
   "id": "c7d70303",
   "metadata": {},
   "outputs": [
    {
     "data": {
      "text/plain": [
       "(9000, 5)"
      ]
     },
     "execution_count": 370,
     "metadata": {},
     "output_type": "execute_result"
    }
   ],
   "source": [
    "df_list = []\n",
    "for fname in os.listdir(daily_path):\n",
    "    temp_df = pd.read_excel(os.path.join(daily_path, fname))\n",
    "    df_list.append(temp_df)\n",
    "\n",
    "df = pd.concat(df_list)\n",
    "df.reset_index(drop=True, inplace=True)\n",
    "df.shape"
   ]
  },
  {
   "cell_type": "code",
   "execution_count": 371,
   "id": "45cd2be3",
   "metadata": {},
   "outputs": [
    {
     "data": {
      "text/plain": [
       "(9000, 5)"
      ]
     },
     "execution_count": 371,
     "metadata": {},
     "output_type": "execute_result"
    }
   ],
   "source": [
    "df.shape"
   ]
  },
  {
   "cell_type": "code",
   "execution_count": 372,
   "id": "7b216ac3",
   "metadata": {},
   "outputs": [
    {
     "name": "stdout",
     "output_type": "stream",
     "text": [
      "28 The Kid LAROI\n",
      "31 경서예지\n",
      "34 존 박\n",
      "37 Coldplay(콜드플레이)\n",
      "43 MINO(송민호)\n",
      "51 디핵(D-Hack)\n"
     ]
    },
    {
     "name": "stderr",
     "output_type": "stream",
     "text": [
      "C:\\Users\\User\\AppData\\Local\\Temp/ipykernel_11352/1779678755.py:9: SettingWithCopyWarning: \n",
      "A value is trying to be set on a copy of a slice from a DataFrame\n",
      "\n",
      "See the caveats in the documentation: https://pandas.pydata.org/pandas-docs/stable/user_guide/indexing.html#returning-a-view-versus-a-copy\n",
      "  df['아티스트'][a] = df['아티스트'][a][:idx_unm]\n"
     ]
    }
   ],
   "source": [
    "try:\n",
    "    for a in range(0, df.shape[0]):\n",
    "        if '\\n' in df['곡'][a]:\n",
    "            print(a, df['곡'][a])\n",
    "\n",
    "        if '\\n' in df['아티스트'][a]:\n",
    "            # 개행문자(\\n) 제거\n",
    "            idx_unm = df['아티스트'][a].find('\\n')\n",
    "            df['아티스트'][a] = df['아티스트'][a][:idx_unm]\n",
    "            print(a, df['아티스트'][a])\n",
    "\n",
    "        if '\\n' in df['앨범'][a]:\n",
    "            print(a, df['앨범'][a])\n",
    "            \n",
    "except:\n",
    "    pass"
   ]
  },
  {
   "cell_type": "code",
   "execution_count": 373,
   "id": "7d550274",
   "metadata": {},
   "outputs": [
    {
     "data": {
      "text/plain": [
       "(9000, 5)"
      ]
     },
     "execution_count": 373,
     "metadata": {},
     "output_type": "execute_result"
    }
   ],
   "source": [
    "df.shape"
   ]
  },
  {
   "cell_type": "code",
   "execution_count": 378,
   "id": "7852704c",
   "metadata": {
    "scrolled": false
   },
   "outputs": [
    {
     "data": {
      "text/html": [
       "<div>\n",
       "<style scoped>\n",
       "    .dataframe tbody tr th:only-of-type {\n",
       "        vertical-align: middle;\n",
       "    }\n",
       "\n",
       "    .dataframe tbody tr th {\n",
       "        vertical-align: top;\n",
       "    }\n",
       "\n",
       "    .dataframe thead th {\n",
       "        text-align: right;\n",
       "    }\n",
       "</style>\n",
       "<table border=\"1\" class=\"dataframe\">\n",
       "  <thead>\n",
       "    <tr style=\"text-align: right;\">\n",
       "      <th></th>\n",
       "      <th>아티스트</th>\n",
       "    </tr>\n",
       "  </thead>\n",
       "  <tbody>\n",
       "    <tr>\n",
       "      <th>28</th>\n",
       "      <td>The Kid LAROI</td>\n",
       "    </tr>\n",
       "    <tr>\n",
       "      <th>29</th>\n",
       "      <td>김나영</td>\n",
       "    </tr>\n",
       "    <tr>\n",
       "      <th>30</th>\n",
       "      <td>MC몽</td>\n",
       "    </tr>\n",
       "    <tr>\n",
       "      <th>31</th>\n",
       "      <td>경서예지</td>\n",
       "    </tr>\n",
       "  </tbody>\n",
       "</table>\n",
       "</div>"
      ],
      "text/plain": [
       "             아티스트\n",
       "28  The Kid LAROI\n",
       "29            김나영\n",
       "30            MC몽\n",
       "31           경서예지"
      ]
     },
     "execution_count": 378,
     "metadata": {},
     "output_type": "execute_result"
    }
   ],
   "source": [
    "df[['아티스트']][28:32]"
   ]
  },
  {
   "cell_type": "markdown",
   "id": "c47d742f",
   "metadata": {},
   "source": [
    "## 주간"
   ]
  },
  {
   "cell_type": "code",
   "execution_count": 425,
   "id": "2defdfec",
   "metadata": {},
   "outputs": [
    {
     "data": {
      "text/plain": [
       "(1300, 5)"
      ]
     },
     "execution_count": 425,
     "metadata": {},
     "output_type": "execute_result"
    }
   ],
   "source": [
    "df_list = []\n",
    "for fname in os.listdir(weekly_path):\n",
    "    temp_df = pd.read_excel(os.path.join(weekly_path, fname))\n",
    "    df_list.append(temp_df)\n",
    "    \n",
    "df = pd.concat(df_list)\n",
    "df.reset_index(drop=True, inplace=True)\n",
    "df.shape"
   ]
  },
  {
   "cell_type": "code",
   "execution_count": 386,
   "id": "154e5f1f",
   "metadata": {},
   "outputs": [],
   "source": [
    "try:\n",
    "    for a in range(0, df.shape[0]):\n",
    "        if '\\n' in df['곡'][a]:\n",
    "            print(a, df['곡'][a])\n",
    "\n",
    "        if '\\n' in df['아티스트'][a]:\n",
    "            # 개행문자(\\n) 제거\n",
    "            idx_unm = df['아티스트'][a].find('\\n')\n",
    "            df['아티스트'][a] = df['아티스트'][a][:idx_unm]\n",
    "            print(a, df['아티스트'][a])\n",
    "\n",
    "        if '\\n' in df['앨범'][a]:\n",
    "            print(a, df['앨범'][a])\n",
    "            \n",
    "except:\n",
    "    pass"
   ]
  },
  {
   "cell_type": "markdown",
   "id": "aeac93b9",
   "metadata": {},
   "source": [
    "## 실시간"
   ]
  },
  {
   "cell_type": "code",
   "execution_count": 440,
   "id": "22ca89f0",
   "metadata": {},
   "outputs": [
    {
     "data": {
      "text/plain": [
       "(100, 5)"
      ]
     },
     "execution_count": 440,
     "metadata": {},
     "output_type": "execute_result"
    }
   ],
   "source": [
    "df_list = []\n",
    "for fname in os.listdir(live_path):\n",
    "    temp_df = pd.read_excel(os.path.join(live_path, fname))\n",
    "    df_list.append(temp_df)\n",
    "    \n",
    "df = pd.concat(df_list)\n",
    "df.reset_index(drop=True, inplace=True)\n",
    "df.shape"
   ]
  },
  {
   "cell_type": "code",
   "execution_count": 388,
   "id": "11a28ff0",
   "metadata": {},
   "outputs": [],
   "source": [
    "try:\n",
    "    for a in range(0, df.shape[0]):\n",
    "        if '\\n' in df['곡'][a]:\n",
    "            print(a, df['곡'][a])\n",
    "\n",
    "        if '\\n' in df['아티스트'][a]:\n",
    "            # 개행문자(\\n) 제거\n",
    "            idx_unm = df['아티스트'][a].find('\\n')\n",
    "            df['아티스트'][a] = df['아티스트'][a][:idx_unm]\n",
    "            print(a, df['아티스트'][a])\n",
    "\n",
    "        if '\\n' in df['앨범'][a]:\n",
    "            print(a, df['앨범'][a])\n",
    "            \n",
    "except:\n",
    "    pass"
   ]
  },
  {
   "cell_type": "markdown",
   "id": "de5ae95e",
   "metadata": {},
   "source": [
    "## 컬럼명 바꿔서 저장하기"
   ]
  },
  {
   "cell_type": "code",
   "execution_count": 441,
   "id": "b4a580e3",
   "metadata": {},
   "outputs": [
    {
     "data": {
      "text/plain": [
       "(100, 5)"
      ]
     },
     "execution_count": 441,
     "metadata": {},
     "output_type": "execute_result"
    }
   ],
   "source": [
    "df.shape"
   ]
  },
  {
   "cell_type": "code",
   "execution_count": 442,
   "id": "cb9c143f",
   "metadata": {},
   "outputs": [
    {
     "data": {
      "text/html": [
       "<div>\n",
       "<style scoped>\n",
       "    .dataframe tbody tr th:only-of-type {\n",
       "        vertical-align: middle;\n",
       "    }\n",
       "\n",
       "    .dataframe tbody tr th {\n",
       "        vertical-align: top;\n",
       "    }\n",
       "\n",
       "    .dataframe thead th {\n",
       "        text-align: right;\n",
       "    }\n",
       "</style>\n",
       "<table border=\"1\" class=\"dataframe\">\n",
       "  <thead>\n",
       "    <tr style=\"text-align: right;\">\n",
       "      <th></th>\n",
       "      <th>날짜</th>\n",
       "      <th>순위</th>\n",
       "      <th>곡</th>\n",
       "      <th>가수</th>\n",
       "      <th>앨범</th>\n",
       "    </tr>\n",
       "  </thead>\n",
       "  <tbody>\n",
       "    <tr>\n",
       "      <th>95</th>\n",
       "      <td>96</td>\n",
       "      <td>2022-04-07</td>\n",
       "      <td>Paris In The Rain</td>\n",
       "      <td>Lauv(라우브)</td>\n",
       "      <td>I met you when I was 18. (the playlist)</td>\n",
       "    </tr>\n",
       "    <tr>\n",
       "      <th>96</th>\n",
       "      <td>97</td>\n",
       "      <td>2022-04-07</td>\n",
       "      <td>너의 세상</td>\n",
       "      <td>설호승 (SURL)</td>\n",
       "      <td>스물다섯 스물하나 OST Part 9</td>\n",
       "    </tr>\n",
       "    <tr>\n",
       "      <th>97</th>\n",
       "      <td>98</td>\n",
       "      <td>2022-04-07</td>\n",
       "      <td>묘해, 너와</td>\n",
       "      <td>어쿠스틱 콜라보(Acoustic Collabo)</td>\n",
       "      <td>연애의 발견 (KBS 월화드라마) OST - Part 4</td>\n",
       "    </tr>\n",
       "    <tr>\n",
       "      <th>98</th>\n",
       "      <td>99</td>\n",
       "      <td>2022-04-07</td>\n",
       "      <td>나랑 같이 걸을래 (바른연애 길잡이 X 적재)</td>\n",
       "      <td>적재</td>\n",
       "      <td>나랑 같이 걸을래 (바른연애 길잡이 X 적재)</td>\n",
       "    </tr>\n",
       "    <tr>\n",
       "      <th>99</th>\n",
       "      <td>100</td>\n",
       "      <td>2022-04-07</td>\n",
       "      <td>너</td>\n",
       "      <td>아이유(IU)</td>\n",
       "      <td>조각집</td>\n",
       "    </tr>\n",
       "  </tbody>\n",
       "</table>\n",
       "</div>"
      ],
      "text/plain": [
       "     날짜          순위                          곡                          가수  \\\n",
       "95   96  2022-04-07          Paris In The Rain                   Lauv(라우브)   \n",
       "96   97  2022-04-07                      너의 세상                  설호승 (SURL)   \n",
       "97   98  2022-04-07                     묘해, 너와  어쿠스틱 콜라보(Acoustic Collabo)   \n",
       "98   99  2022-04-07  나랑 같이 걸을래 (바른연애 길잡이 X 적재)                          적재   \n",
       "99  100  2022-04-07                          너                     아이유(IU)   \n",
       "\n",
       "                                         앨범  \n",
       "95  I met you when I was 18. (the playlist)  \n",
       "96                     스물다섯 스물하나 OST Part 9  \n",
       "97          연애의 발견 (KBS 월화드라마) OST - Part 4  \n",
       "98                나랑 같이 걸을래 (바른연애 길잡이 X 적재)  \n",
       "99                                      조각집  "
      ]
     },
     "execution_count": 442,
     "metadata": {},
     "output_type": "execute_result"
    }
   ],
   "source": [
    "fix_column = ['날짜', '순위', '곡', '가수', '앨범']\n",
    "df.columns = fix_column\n",
    "df.tail()"
   ]
  },
  {
   "cell_type": "code",
   "execution_count": 444,
   "id": "7683ea50",
   "metadata": {},
   "outputs": [
    {
     "data": {
      "text/plain": [
       "1"
      ]
     },
     "execution_count": 444,
     "metadata": {},
     "output_type": "execute_result"
    }
   ],
   "source": [
    "name_list = os.listdir(live_path)\n",
    "len(name_list)"
   ]
  },
  {
   "cell_type": "code",
   "execution_count": 447,
   "id": "f0d705b1",
   "metadata": {},
   "outputs": [],
   "source": [
    "temp_path = \"C:/Users/User/Desktop/음원사재기/bugs/실시간/\"\n",
    "interval_list = list(range(0,200,100))\n",
    "\n",
    "for i in range(0, 1):\n",
    "    # df[0:100] ~~~\n",
    "    fixed_df = df[interval_list[i]:interval_list[i+1]]\n",
    "    fixed_df.to_excel(temp_path+name_list[i], index=False)"
   ]
  },
  {
   "cell_type": "code",
   "execution_count": null,
   "id": "81c17a2d",
   "metadata": {},
   "outputs": [],
   "source": [
    "df[interval_list[i]:interval_list[i+1]]"
   ]
  },
  {
   "cell_type": "code",
   "execution_count": null,
   "id": "eec00676",
   "metadata": {},
   "outputs": [],
   "source": []
  }
 ],
 "metadata": {
  "kernelspec": {
   "display_name": "Python 3 (ipykernel)",
   "language": "python",
   "name": "python3"
  },
  "language_info": {
   "codemirror_mode": {
    "name": "ipython",
    "version": 3
   },
   "file_extension": ".py",
   "mimetype": "text/x-python",
   "name": "python",
   "nbconvert_exporter": "python",
   "pygments_lexer": "ipython3",
   "version": "3.9.7"
  }
 },
 "nbformat": 4,
 "nbformat_minor": 5
}
