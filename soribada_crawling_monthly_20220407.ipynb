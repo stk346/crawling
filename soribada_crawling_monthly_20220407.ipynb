{
 "cells": [
  {
   "cell_type": "code",
   "execution_count": 2,
   "id": "7003c544",
   "metadata": {},
   "outputs": [],
   "source": [
    "from selenium import webdriver\n",
    "from bs4 import BeautifulSoup as bs\n",
    "import pandas as pd\n",
    "import matplotlib.pyplot as plt\n",
    "import time\n",
    "import random\n",
    "import requests\n",
    "import numpy as np"
   ]
  },
  {
   "cell_type": "code",
   "execution_count": 3,
   "id": "aeaaecc6",
   "metadata": {},
   "outputs": [],
   "source": [
    "import platform\n",
    "from matplotlib import font_manager, rc"
   ]
  },
  {
   "cell_type": "markdown",
   "id": "e2fd89de",
   "metadata": {},
   "source": [
    "# 소리바다 차트 크롤링 함수 만들기"
   ]
  },
  {
   "cell_type": "code",
   "execution_count": 4,
   "id": "b171c7e9",
   "metadata": {
    "scrolled": true
   },
   "outputs": [
    {
     "name": "stderr",
     "output_type": "stream",
     "text": [
      "C:\\Users\\User\\AppData\\Local\\Temp/ipykernel_6204/565765913.py:2: DeprecationWarning: executable_path has been deprecated, please pass in a Service object\n",
      "  driver = webdriver.Chrome(driver_path)\n"
     ]
    }
   ],
   "source": [
    "driver_path = 'C:/Users/User/Desktop/chromedriver/chromedriver_win32/chromedriver'\n",
    "driver = webdriver.Chrome(driver_path)\n",
    "\n",
    "url = 'https://www.soribada.com/music/chart/monthly/202201'\n",
    "\n",
    "driver.get(url)"
   ]
  },
  {
   "cell_type": "code",
   "execution_count": 5,
   "id": "e2c8d34b",
   "metadata": {},
   "outputs": [
    {
     "data": {
      "text/plain": [
       "100"
      ]
     },
     "execution_count": 5,
     "metadata": {},
     "output_type": "execute_result"
    }
   ],
   "source": [
    "soup = bs(driver.page_source,'lxml')\n",
    "\n",
    "music_list = soup.find('ul',\"music-list\")\n",
    "\n",
    "\n",
    "# 곡명\n",
    "song_list = []\n",
    "for area in music_list:\n",
    "    \n",
    "    # 곡명, 가수명, 앨범 있는 area\n",
    "    area2 = area.find('div', 'list-area2')\n",
    "    # 곡명 area\n",
    "    song_area = area2.find('span', 'link-type1')\n",
    "    song_name = song_area.find('span','song-title')\n",
    "    song_list.append(song_name.text)\n",
    "    \n",
    "len(song_list)"
   ]
  },
  {
   "cell_type": "code",
   "execution_count": 128,
   "id": "dc42de83",
   "metadata": {},
   "outputs": [
    {
     "name": "stdout",
     "output_type": "stream",
     "text": [
      "'NoneType' object has no attribute 'text'\n",
      "'NoneType' object has no attribute 'text'\n",
      "'NoneType' object has no attribute 'text'\n",
      "'NoneType' object has no attribute 'text'\n",
      "'NoneType' object has no attribute 'text'\n",
      "'NoneType' object has no attribute 'text'\n",
      "'NoneType' object has no attribute 'text'\n",
      "'NoneType' object has no attribute 'text'\n",
      "'NoneType' object has no attribute 'text'\n",
      "'NoneType' object has no attribute 'text'\n",
      "'NoneType' object has no attribute 'text'\n",
      "['김호중', '김호중', '김호중', '김호중', '김호중', '김호중', '김호중', '김호중', '김호중', '김호중', '김호중', '김호중', '칸토', '김호중', '김호중', '김호중', '김호중', '김호중', '김호중', '김호중', '김호중', '김호중', '김호중', '김호중', '김호중', '김호중', '김호중', '김호중, 오현우', '김호중', '김호중', '김호중', '김호중', '김호중', '김호중', '진시몬, 김호중', '김호중', '브레이브걸스', '거북이', '코요태', '아이유', '김호중, 차윤승', '성시경, 아이유', '코요태', '김종국, SG워너비', '아이유', '자자', '김호중', '김호중', '잔나비', '마크툽(MAKTUB)', '아이유', 'Anne-Marie', '에일리(Ailee)', '박효신', 'Sia', '김현정', '브레이브걸스', '김호중', '김호중, 백서진', 'Charlie Puth', '임창정', '멜로망스 (MeloMance)', '김호중', '태연 (TAEYEON)', 'Dua Lipa', '김호중', '김호중', '김호중', '김호중, 김희재', '김호중, 나태주', '박효신', '김호중', 'Maroon 5', '터보', '폴킴', '김호중, 고재근, 이찬원, 정동원', 'SG워너비', 'Dua Lipa', '소찬휘', '마마무(Mamamoo)', '싸이 (PSY)', '아이유', '임영웅', '성시경', '임창정', '이문세', '왁스', '제이', 'Pink Sweat$', '아이유', '씨야, 다비치, 티아라', '씨야', '영턱스클럽', '아이유', '화사 (Hwa Sa)', '장범준', '주니퍼', '이선희', '이승철', '임영웅']\n"
     ]
    }
   ],
   "source": [
    "soup = bs(driver.page_source,'lxml')\n",
    "\n",
    "music_list = soup.find('ul',\"music-list\")\n",
    "\n",
    "\n",
    "# 가수이름\n",
    "name_list = []\n",
    "\n",
    "count= 0\n",
    "for area in music_list:\n",
    "    try:\n",
    "        count = count + 1\n",
    "        # 곡명, 가수명, 앨범 있는 area\n",
    "        area2 = area.find('div', 'list-area2')\n",
    "        # 이름 area\n",
    "        # span, link-type2-name artist\n",
    "        # span, link-type2-name artist detail_artist\n",
    "        area3 = area2.find('span', 'link-type2-name artist')\n",
    "        name_list.append(area3.text.strip())\n",
    "        \n",
    "    except AttributeError as e:\n",
    "        print(e)\n",
    "        # 곡명, 가수명, 앨범 있는 area\n",
    "        area2 = area.find('div', 'list-area2')\n",
    "        area3 = area2.find('span', 'link-type2-name artist detail_artist')\n",
    "        name_list.append(area3.text.strip())\n",
    "print(name_list)"
   ]
  },
  {
   "cell_type": "code",
   "execution_count": 137,
   "id": "9d460c2e",
   "metadata": {},
   "outputs": [
    {
     "data": {
      "text/plain": [
       "100"
      ]
     },
     "execution_count": 137,
     "metadata": {},
     "output_type": "execute_result"
    }
   ],
   "source": [
    "soup = bs(driver.page_source,'lxml')\n",
    "\n",
    "music_list = soup.find('ul',\"music-list\")\n",
    "\n",
    "\n",
    "# 앨범명\n",
    "album_list = []\n",
    "for area in music_list:\n",
    "    \n",
    "    # 곡명, 가수명, 앨범 있는 area\n",
    "    area2 = area.find('div', 'list-area2')\n",
    "    # 곡명 area\n",
    "    song_area = area2.find('span', 'link-type2 album-title')\n",
    "    album_list.append(song_area.text.strip())\n",
    "    \n",
    "len(album_list)"
   ]
  },
  {
   "cell_type": "code",
   "execution_count": 152,
   "id": "59c353da",
   "metadata": {},
   "outputs": [],
   "source": [
    "def soribada_df(url):\n",
    "    driver_path = 'C:/Users/User/Desktop/chromedriver/chromedriver_win32/chromedriver'\n",
    "    driver = webdriver.Chrome(driver_path)\n",
    "    driver.get(url)\n",
    "    \n",
    "    soup = bs(driver.page_source,'lxml')\n",
    "    music_list = soup.find('ul',\"music-list\")\n",
    "\n",
    "    # 곡명\n",
    "    song_list = []\n",
    "    for area in music_list:\n",
    "\n",
    "        # 곡명, 가수명, 앨범 있는 area\n",
    "        area2 = area.find('div', 'list-area2')\n",
    "        # 곡명 area\n",
    "        song_area = area2.find('span', 'link-type1')\n",
    "        song_name = song_area.find('span','song-title')\n",
    "        song_list.append(song_name.text)\n",
    "        \n",
    "    # 가수명\n",
    "    name_list = []\n",
    "    count= 0\n",
    "    for area in music_list:\n",
    "        try:\n",
    "            count = count + 1\n",
    "            # 곡명, 가수명, 앨범 있는 area\n",
    "            area2 = area.find('div', 'list-area2')\n",
    "            area3 = area2.find('span', 'link-type2-name artist')\n",
    "            name_list.append(area3.text.strip())\n",
    "\n",
    "        except AttributeError as e:\n",
    "            print(e)\n",
    "            # 곡명, 가수명, 앨범 있는 area\n",
    "            area2 = area.find('div', 'list-area2')\n",
    "            area3 = area2.find('span', 'link-type2-name artist detail_artist')\n",
    "            name_list.append(area3.text.strip())\n",
    "            \n",
    "    # 앨범명\n",
    "    album_list = []\n",
    "    for area in music_list:\n",
    "\n",
    "        # 곡명, 가수명, 앨범 있는 area\n",
    "        area2 = area.find('div', 'list-area2')\n",
    "        # 앨범명 area\n",
    "        song_area = area2.find('span', 'link-type2 album-title')\n",
    "        album_list.append(song_area.text.strip())\n",
    "        \n",
    "    # 데이터프레임 만들기\n",
    "    rank = list(range(1,101))\n",
    "    \n",
    "    df = pd.DataFrame({\"순위\": rank,\n",
    "                      \"노래제목\": song_list,\n",
    "                      \"가수명\": name_list,\n",
    "                      \"앨범명\": album_list})\n",
    "        \n",
    "    df.head()\n",
    "    \n",
    "    random_number = random.uniform(1, 2)\n",
    "    time.sleep(random_number)\n",
    "    \n",
    "    return df"
   ]
  },
  {
   "cell_type": "markdown",
   "id": "c06d1927",
   "metadata": {},
   "source": [
    "## soribada_df에서 나온 df 저장하는 함수"
   ]
  },
  {
   "cell_type": "code",
   "execution_count": 153,
   "id": "e9e1fc98",
   "metadata": {},
   "outputs": [],
   "source": [
    "from tqdm import tqdm\n",
    "\n",
    "from datetime import datetime\n",
    "from dateutil.relativedelta import relativedelta"
   ]
  },
  {
   "cell_type": "code",
   "execution_count": 160,
   "id": "78f97ec0",
   "metadata": {},
   "outputs": [],
   "source": [
    "def save_df(start_date, end_date):\n",
    "    # 원하는 날짜 리스트에 담기\n",
    "    # pd.date_range에 원하는 날짜 입력하기\n",
    "    \n",
    "    while True:\n",
    "    \n",
    "        start_date = str(start_date)\n",
    "\n",
    "        # 20220103-> 2022, 01, 03\n",
    "        start_year = start_date[:4]\n",
    "        start_month = start_date[4:6]\n",
    "        \n",
    "        date1 = start_year + '-' + start_month\n",
    "\n",
    "        url = \"https://www.soribada.com/music/chart/monthly/\"\n",
    "        url_with_date = url + start_date\n",
    "        \n",
    "        # df추출 후 저장\n",
    "        df = soribada_df(url_with_date)\n",
    "\n",
    "        # DataFrame.insert(loc,column, value, allow_duplicates=False)\n",
    "        df.insert(0, '날짜', date1)\n",
    "        # 파일 저장\n",
    "        save_path = f\"C:/Users/User/Desktop/음원사재기/소리바다/월간/month_soribada{start_date}.xlsx\"\n",
    "        df.to_excel(save_path, index=False)\n",
    "        \n",
    "        # start_date에 + 1 week 해준 이후 다시 end_date와 비교할 수 있게 변환\n",
    "        plus_year=int(start_year)\n",
    "        if start_month == '10':\n",
    "            plus_month = int(start_month)\n",
    "        else:\n",
    "            plus_month = int(start_month.replace('0', ''))\n",
    "        \n",
    "        plus_element = datetime(plus_year, plus_month, 1) + relativedelta(months=1)\n",
    "        temp_date = str(plus_element)[:8]\n",
    "        start_date = int(temp_date.replace('-', ''))\n",
    "        \n",
    "        if start_date > end_date:\n",
    "            break\n",
    "        \n",
    "        df"
   ]
  },
  {
   "cell_type": "code",
   "execution_count": 161,
   "id": "7aa73d5a",
   "metadata": {
    "scrolled": false
   },
   "outputs": [
    {
     "name": "stderr",
     "output_type": "stream",
     "text": [
      "C:\\Users\\User\\AppData\\Local\\Temp/ipykernel_2136/3918216895.py:3: DeprecationWarning: executable_path has been deprecated, please pass in a Service object\n",
      "  driver = webdriver.Chrome(driver_path)\n"
     ]
    },
    {
     "name": "stdout",
     "output_type": "stream",
     "text": [
      "'NoneType' object has no attribute 'text'\n",
      "'NoneType' object has no attribute 'text'\n",
      "'NoneType' object has no attribute 'text'\n",
      "'NoneType' object has no attribute 'text'\n",
      "'NoneType' object has no attribute 'text'\n",
      "'NoneType' object has no attribute 'text'\n",
      "'NoneType' object has no attribute 'text'\n",
      "'NoneType' object has no attribute 'text'\n",
      "'NoneType' object has no attribute 'text'\n",
      "'NoneType' object has no attribute 'text'\n",
      "'NoneType' object has no attribute 'text'\n",
      "'NoneType' object has no attribute 'text'\n",
      "'NoneType' object has no attribute 'text'\n",
      "'NoneType' object has no attribute 'text'\n",
      "'NoneType' object has no attribute 'text'\n",
      "'NoneType' object has no attribute 'text'\n",
      "'NoneType' object has no attribute 'text'\n",
      "'NoneType' object has no attribute 'text'\n",
      "'NoneType' object has no attribute 'text'\n",
      "'NoneType' object has no attribute 'text'\n",
      "'NoneType' object has no attribute 'text'\n",
      "'NoneType' object has no attribute 'text'\n",
      "'NoneType' object has no attribute 'text'\n",
      "'NoneType' object has no attribute 'text'\n",
      "'NoneType' object has no attribute 'text'\n",
      "'NoneType' object has no attribute 'text'\n",
      "'NoneType' object has no attribute 'text'\n",
      "'NoneType' object has no attribute 'text'\n",
      "'NoneType' object has no attribute 'text'\n",
      "'NoneType' object has no attribute 'text'\n",
      "'NoneType' object has no attribute 'text'\n"
     ]
    }
   ],
   "source": [
    "# yyyymm 형식으로 input 넣어야 함\n",
    "\n",
    "save_df(202201, 202203)"
   ]
  }
 ],
 "metadata": {
  "kernelspec": {
   "display_name": "Python 3 (ipykernel)",
   "language": "python",
   "name": "python3"
  },
  "language_info": {
   "codemirror_mode": {
    "name": "ipython",
    "version": 3
   },
   "file_extension": ".py",
   "mimetype": "text/x-python",
   "name": "python",
   "nbconvert_exporter": "python",
   "pygments_lexer": "ipython3",
   "version": "3.9.7"
  }
 },
 "nbformat": 4,
 "nbformat_minor": 5
}
